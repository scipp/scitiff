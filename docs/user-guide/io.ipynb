{
 "cells": [
  {
   "cell_type": "markdown",
   "metadata": {},
   "source": [
    "# IO\n",
    "\n",
    "\n",
    "## Export Tiff Image with Meta Data"
   ]
  },
  {
   "cell_type": "code",
   "execution_count": null,
   "metadata": {},
   "outputs": [],
   "source": [
    "from scitiff.data import hyperstack_example\n",
    "import scipp as sc\n",
    "\n",
    "sample_img = hyperstack_example()\n",
    "sample_img"
   ]
  },
  {
   "cell_type": "code",
   "execution_count": null,
   "metadata": {},
   "outputs": [],
   "source": [
    "config = {\"grid\": True, \"aspect\": True}\n",
    "img = sample_img.mean('c').mean('z')\n",
    "(img['t', 0].plot(title='T=0', **config) + img['t', 1].plot(title='T=1', **config)) / (\n",
    "    img['t', 2].plot(title='T=2', **config) + img['t', 3].plot(title='T=3', **config)\n",
    ")"
   ]
  },
  {
   "cell_type": "code",
   "execution_count": null,
   "metadata": {},
   "outputs": [],
   "source": [
    "from scitiff.io import save_scitiff\n",
    "\n",
    "save_scitiff(sample_img, 'sample_img.tiff', concat_stdevs_and_mask=False)"
   ]
  },
  {
   "cell_type": "markdown",
   "metadata": {},
   "source": [
    "## Load TIFF Image with Meta Data"
   ]
  },
  {
   "cell_type": "code",
   "execution_count": null,
   "metadata": {},
   "outputs": [],
   "source": [
    "from scitiff.io import load_scitiff\n",
    "\n",
    "loaded_scitiff: sc.DataGroup[sc.DataArray] = load_scitiff('sample_img.tiff')\n",
    "loaded_scitiff"
   ]
  },
  {
   "cell_type": "code",
   "execution_count": null,
   "metadata": {},
   "outputs": [],
   "source": [
    "loaded_scitiff['image']"
   ]
  },
  {
   "cell_type": "code",
   "execution_count": null,
   "metadata": {},
   "outputs": [],
   "source": [
    "config = {\"grid\": True, \"aspect\": True}\n",
    "loaded_img = loaded_scitiff['image'].mean('c').mean('z')\n",
    "(\n",
    "    loaded_img['t', 0].plot(title='T=0', **config)\n",
    "    + loaded_img['t', 1].plot(title='T=1', **config)\n",
    ") / (\n",
    "    loaded_img['t', 2].plot(title='T=2', **config)\n",
    "    + loaded_img['t', 3].plot(title='T=3', **config)\n",
    ")"
   ]
  },
  {
   "cell_type": "markdown",
   "metadata": {},
   "source": [
    "## Show Metadata Only"
   ]
  },
  {
   "cell_type": "code",
   "execution_count": null,
   "metadata": {},
   "outputs": [],
   "source": [
    "from scitiff.executables import show_metadata\n",
    "\n",
    "show_metadata('sample_img.tiff')"
   ]
  },
  {
   "cell_type": "markdown",
   "metadata": {},
   "source": [
    "## Load Non-Scitiff Images\n",
    "\n",
    "Sometimes you might want to load tiff images that are not compatible with scitiff.\n",
    "i.e. no metadata, incompatible dtype, or broken metadata with wrong fields or values.\n",
    "\n",
    "`load_scitiff` will try to load metadata and handle incompatible profiles, but if it is not possible it will load the tiff image as it is and wrap it into scipp data structure.\n",
    "\n",
    ".. note::\n",
    "    `load_scitiff` will throw warning if it fails to load the file as expected way\n",
    "    so please pay attention to the warning messages."
   ]
  },
  {
   "cell_type": "code",
   "execution_count": null,
   "metadata": {},
   "outputs": [],
   "source": [
    "import tifffile as tf\n",
    "\n",
    "tf.imwrite('no-meta.tiff', data=sample_img.values)\n",
    "no_meta_loaded_image = load_scitiff('no-meta.tiff')['image']\n",
    "display(no_meta_loaded_image)\n",
    "no_meta_loaded_image_reduced = no_meta_loaded_image.sum('dim_0').sum('dim_2')\n",
    "(\n",
    "    no_meta_loaded_image_reduced['dim_1', 0].plot(title='dim_1=0', **config)\n",
    "    + no_meta_loaded_image_reduced['dim_1', 1].plot(title='dim_1=1', **config)\n",
    ") / (\n",
    "    no_meta_loaded_image_reduced['dim_1', 2].plot(title='dim_1=2', **config)\n",
    "    + no_meta_loaded_image_reduced['dim_1', 3].plot(title='dim_1=3', **config)\n",
    ")"
   ]
  },
  {
   "cell_type": "markdown",
   "metadata": {},
   "source": [
    ".. tip::\n",
    "    You can rename the dimensions and use it just like other scitiff images.\n",
    "    Do it only if you know which `dim_{i}` corresponds to which of ('t', 'z', 'c', 'y', 'x')."
   ]
  },
  {
   "cell_type": "code",
   "execution_count": null,
   "metadata": {},
   "outputs": [],
   "source": [
    "renamed_image = no_meta_loaded_image.rename_dims(\n",
    "    {\"dim_0\": \"c\", \"dim_1\": \"t\", \"dim_2\": \"z\", \"dim_3\": \"y\", \"dim_4\": \"x\"}\n",
    ")\n",
    "display(renamed_image)\n",
    "renamed_image_reduced = renamed_image.sum('z').sum('c')\n",
    "(\n",
    "    renamed_image_reduced['t', 0].plot(title='T=0', **config)\n",
    "    + renamed_image_reduced['t', 1].plot(title='T=1', **config)\n",
    ") / (\n",
    "    renamed_image_reduced['t', 2].plot(title='T=2', **config)\n",
    "    + renamed_image_reduced['t', 3].plot(title='T=3', **config)\n",
    ")"
   ]
  },
  {
   "cell_type": "markdown",
   "metadata": {},
   "source": [
    "## Mask and Standard Deviation\n",
    "\n",
    ".. warn:: This is not officially declared in the scitiff-schema.\n",
    "\n",
    "In some cases, users need to save variances and masks into the file along with the counts.\n",
    "\n",
    "For example, a simulated image is normalized with a background image with some 0 counts pixels.<br>\n",
    "Then the variances are not simply same as the counts and 0 counts pixels of background image should be masked.\n",
    "\n",
    "It is not practical to save such information in the plain text json.\n",
    "\n",
    "Therefore `scitiff.io` has helpers to save/load `mask` and `variances` as channels.\n",
    "\n",
    ".. tip:: If masks can be represented as 1 dimensional array, it is better to keep it as masks.\n",
    "\n",
    "\n",
    "Here is the sample image we want to save and load.<br>\n",
    "The image stack has 4 dimensions, (t, x, y, z) data, a mask with same dimension and variances.<br>\n",
    "If we save it as it is, the mask is not accepted as it is not 1 dimensional array<br>\n",
    "and the variances will be simply ignored."
   ]
  },
  {
   "cell_type": "code",
   "execution_count": null,
   "metadata": {},
   "outputs": [],
   "source": [
    "from scitiff.data import hyperstack_example_with_variances_and_mask\n",
    "\n",
    "sample_img_with_stdev_and_mask = hyperstack_example_with_variances_and_mask()\n",
    "display(sample_img_with_stdev_and_mask)\n",
    "sample_img_with_stdev_and_mask['t', 0]['z', 0].plot(title=\"Masked Image, T=0, Z=0\") + \\\n",
    "sample_img_with_stdev_and_mask['t', 1]['z', 0].plot(title=\"Masked Image, T=1, Z=0\") + \\\n",
    "sample_img_with_stdev_and_mask['t', 2]['z', 0].plot(title=\"Masked Image, T=2, Z=0\")"
   ]
  },
  {
   "cell_type": "markdown",
   "metadata": {},
   "source": [
    "### Save Mask and Standard Deviation"
   ]
  },
  {
   "cell_type": "markdown",
   "metadata": {},
   "source": [
    "In order to save the mask and the variances,\n",
    "\n",
    "you can simply set `concat_stdevs_and_mask` argument to `True` of `save_scitiff`.\n",
    "\n",
    "Then it will concatenate stdevs and mask into channel dimension before it saves the image."
   ]
  },
  {
   "cell_type": "code",
   "execution_count": null,
   "metadata": {},
   "outputs": [],
   "source": [
    "from scitiff.io import save_scitiff\n",
    "\n",
    "save_scitiff(\n",
    "    sample_img_with_stdev_and_mask,\n",
    "    'sample_img_with_stdev_and_mask.tiff',\n",
    "    concat_stdevs_and_mask=True,\n",
    "    mask_name='mask',\n",
    ")"
   ]
  },
  {
   "cell_type": "markdown",
   "metadata": {},
   "source": [
    "Or you can manually translate the image to have stdevs and mask concatenated into channel dimension.\n",
    "\n",
    "Note that the `c` (channel) coordinate has `string` values that indicates which channel is `intensities`, `stdevs` or `mask`.\n",
    "\n",
    "And you can save the object as it is."
   ]
  },
  {
   "cell_type": "code",
   "execution_count": null,
   "metadata": {},
   "outputs": [],
   "source": [
    "from scitiff.io import save_scitiff\n",
    "from scitiff.io import to_scitiff_image\n",
    "\n",
    "da = to_scitiff_image(\n",
    "    sample_img_with_stdev_and_mask, concat_stdevs_and_mask=True, mask_name='mask'\n",
    ")\n",
    "display(da)\n",
    "save_scitiff(da, 'sample_img_with_stdev_and_mask.tiff', concat_stdevs_and_mask=False)"
   ]
  },
  {
   "cell_type": "markdown",
   "metadata": {},
   "source": [
    "### Load Mask and Standard Deviation\n",
    "\n",
    "As the `stdevs` and `mask` is saved into the tiff stack, you can load them as well."
   ]
  },
  {
   "cell_type": "code",
   "execution_count": null,
   "metadata": {},
   "outputs": [],
   "source": [
    "import scipp as sc\n",
    "from scitiff.io import load_scitiff\n",
    "\n",
    "img_with_stdev_and_mask_dg = load_scitiff('sample_img_with_stdev_and_mask.tiff', resolve_channels=False)\n",
    "img_with_stdev_and_mask = img_with_stdev_and_mask_dg['image']\n",
    "display(img_with_stdev_and_mask)\n",
    "tiled = img_with_stdev_and_mask['c', sc.scalar('intensities')]['t', 0]['z', 0].plot(title='Loaded Image (intensities), T=0, Z=0') / \\\n",
    "img_with_stdev_and_mask['c', sc.scalar('stdevs')]['t', 0]['z', 0].plot(title='Loaded Image (stdevs), T=0, Z=0') / \\\n",
    "img_with_stdev_and_mask['c', sc.scalar('mask')]['t', 0]['z', 0].plot(title='Loaded Image (mask), T=0, Z=0')\n",
    "tiled"
   ]
  },
  {
   "cell_type": "markdown",
   "metadata": {},
   "source": [
    "There is a helper function that reassemble the data array with mask and variances from the loaded image."
   ]
  },
  {
   "cell_type": "code",
   "execution_count": null,
   "metadata": {},
   "outputs": [],
   "source": [
    "from scitiff.io import resolve_scitiff_channels\n",
    "\n",
    "img_with_stdev_and_mask_resolved = resolve_scitiff_channels(img_with_stdev_and_mask)\n",
    "display(img_with_stdev_and_mask_resolved)\n",
    "img_with_stdev_and_mask_resolved['t', 0]['z', 0].plot(title='Loaded Image (intensities), T=0, Z=0')"
   ]
  },
  {
   "cell_type": "markdown",
   "metadata": {},
   "source": [
    "Or you can simply set the `resolve_channels` argument to be `True` and the loader will try reassembling the data array with mask and variances."
   ]
  },
  {
   "cell_type": "code",
   "execution_count": null,
   "metadata": {},
   "outputs": [],
   "source": [
    "import scipp as sc\n",
    "from scitiff.io import load_scitiff\n",
    "\n",
    "img_with_stdev_and_mask_dg = load_scitiff('sample_img_with_stdev_and_mask.tiff', resolve_channels=True)\n",
    "img_stdev_and_mask_resolved_at_once = img_with_stdev_and_mask_dg['image']\n",
    "\n",
    "display(img_stdev_and_mask_resolved_at_once)\n",
    "img_stdev_and_mask_resolved_at_once['t', 0]['z', 0].plot(title='Masked Image, T=0, Z=0')"
   ]
  }
 ],
 "metadata": {
  "kernelspec": {
   "display_name": "scitiff-dev-310",
   "language": "python",
   "name": "python3"
  },
  "language_info": {
   "codemirror_mode": {
    "name": "ipython",
    "version": 3
   },
   "file_extension": ".py",
   "mimetype": "text/x-python",
   "name": "python",
   "nbconvert_exporter": "python",
   "pygments_lexer": "ipython3",
   "version": "3.10.16"
  }
 },
 "nbformat": 4,
 "nbformat_minor": 2
}
